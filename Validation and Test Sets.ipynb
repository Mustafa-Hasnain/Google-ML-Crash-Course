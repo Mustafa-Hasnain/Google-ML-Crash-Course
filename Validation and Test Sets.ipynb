{
 "cells": [
  {
   "cell_type": "code",
   "execution_count": 13,
   "id": "2bf6b13b",
   "metadata": {},
   "outputs": [],
   "source": [
    "import tensorflow as tf\n",
    "import numpy as np\n",
    "import matplotlib.pyplot as plt\n",
    "import pandas as pd\n",
    "\n",
    "pd.options.display.max_rows = 10\n",
    "pd.options.display.float_format = \"{:.1f}\".format"
   ]
  },
  {
   "cell_type": "code",
   "execution_count": 14,
   "id": "a881fbde",
   "metadata": {},
   "outputs": [],
   "source": [
    "#loading data_sets from the folder\n",
    "train_set = pd.read_csv(\"california_housing_train.csv\")\n",
    "test_set = pd.read_csv(\"california_housing_test.csv\")"
   ]
  },
  {
   "cell_type": "code",
   "execution_count": 15,
   "id": "17b2db25",
   "metadata": {},
   "outputs": [
    {
     "data": {
      "text/html": [
       "<div>\n",
       "<style scoped>\n",
       "    .dataframe tbody tr th:only-of-type {\n",
       "        vertical-align: middle;\n",
       "    }\n",
       "\n",
       "    .dataframe tbody tr th {\n",
       "        vertical-align: top;\n",
       "    }\n",
       "\n",
       "    .dataframe thead th {\n",
       "        text-align: right;\n",
       "    }\n",
       "</style>\n",
       "<table border=\"1\" class=\"dataframe\">\n",
       "  <thead>\n",
       "    <tr style=\"text-align: right;\">\n",
       "      <th></th>\n",
       "      <th>longitude</th>\n",
       "      <th>latitude</th>\n",
       "      <th>housing_median_age</th>\n",
       "      <th>total_rooms</th>\n",
       "      <th>total_bedrooms</th>\n",
       "      <th>population</th>\n",
       "      <th>households</th>\n",
       "      <th>median_income</th>\n",
       "      <th>median_house_value</th>\n",
       "    </tr>\n",
       "  </thead>\n",
       "  <tbody>\n",
       "    <tr>\n",
       "      <th>0</th>\n",
       "      <td>-114.3</td>\n",
       "      <td>34.2</td>\n",
       "      <td>15.0</td>\n",
       "      <td>5612.0</td>\n",
       "      <td>1283.0</td>\n",
       "      <td>1015.0</td>\n",
       "      <td>472.0</td>\n",
       "      <td>1.5</td>\n",
       "      <td>66.9</td>\n",
       "    </tr>\n",
       "    <tr>\n",
       "      <th>1</th>\n",
       "      <td>-114.5</td>\n",
       "      <td>34.4</td>\n",
       "      <td>19.0</td>\n",
       "      <td>7650.0</td>\n",
       "      <td>1901.0</td>\n",
       "      <td>1129.0</td>\n",
       "      <td>463.0</td>\n",
       "      <td>1.8</td>\n",
       "      <td>80.1</td>\n",
       "    </tr>\n",
       "    <tr>\n",
       "      <th>2</th>\n",
       "      <td>-114.6</td>\n",
       "      <td>33.7</td>\n",
       "      <td>17.0</td>\n",
       "      <td>720.0</td>\n",
       "      <td>174.0</td>\n",
       "      <td>333.0</td>\n",
       "      <td>117.0</td>\n",
       "      <td>1.7</td>\n",
       "      <td>85.7</td>\n",
       "    </tr>\n",
       "    <tr>\n",
       "      <th>3</th>\n",
       "      <td>-114.6</td>\n",
       "      <td>33.6</td>\n",
       "      <td>14.0</td>\n",
       "      <td>1501.0</td>\n",
       "      <td>337.0</td>\n",
       "      <td>515.0</td>\n",
       "      <td>226.0</td>\n",
       "      <td>3.2</td>\n",
       "      <td>73.4</td>\n",
       "    </tr>\n",
       "    <tr>\n",
       "      <th>4</th>\n",
       "      <td>-114.6</td>\n",
       "      <td>33.6</td>\n",
       "      <td>20.0</td>\n",
       "      <td>1454.0</td>\n",
       "      <td>326.0</td>\n",
       "      <td>624.0</td>\n",
       "      <td>262.0</td>\n",
       "      <td>1.9</td>\n",
       "      <td>65.5</td>\n",
       "    </tr>\n",
       "  </tbody>\n",
       "</table>\n",
       "</div>"
      ],
      "text/plain": [
       "   longitude  latitude  housing_median_age  total_rooms  total_bedrooms  \\\n",
       "0     -114.3      34.2                15.0       5612.0          1283.0   \n",
       "1     -114.5      34.4                19.0       7650.0          1901.0   \n",
       "2     -114.6      33.7                17.0        720.0           174.0   \n",
       "3     -114.6      33.6                14.0       1501.0           337.0   \n",
       "4     -114.6      33.6                20.0       1454.0           326.0   \n",
       "\n",
       "   population  households  median_income  median_house_value  \n",
       "0      1015.0       472.0            1.5                66.9  \n",
       "1      1129.0       463.0            1.8                80.1  \n",
       "2       333.0       117.0            1.7                85.7  \n",
       "3       515.0       226.0            3.2                73.4  \n",
       "4       624.0       262.0            1.9                65.5  "
      ]
     },
     "execution_count": 15,
     "metadata": {},
     "output_type": "execute_result"
    }
   ],
   "source": [
    "#Scale the label values\n",
    "#The following code cell scales the median_house_value\n",
    "scale = 1000.0\n",
    "train_set[\"median_house_value\"] = train_set[\"median_house_value\"] / scale\n",
    "test_set[\"median_house_value\"] = test_set[\"median_house_value\"] / scale\n",
    "train_set.head()"
   ]
  },
  {
   "cell_type": "markdown",
   "id": "75c8abb9",
   "metadata": {},
   "source": [
    "Load the functions that build and train a model\n",
    "The following code cell defines two functions:\n",
    "\n",
    "build_model, which defines the model's topography.\n",
    "train_model, which will ultimately train the model, outputting not only the loss value for the training set but also the loss value for the validation set.\n",
    "Since you don't need to understand model building code right now, we've hidden this code cell. As always, you must run hidden code cells.\n",
    "\n"
   ]
  },
  {
   "cell_type": "code",
   "execution_count": 16,
   "id": "a507b8d0",
   "metadata": {},
   "outputs": [
    {
     "name": "stdout",
     "output_type": "stream",
     "text": [
      "Defined the build_model and train_model functions.\n"
     ]
    }
   ],
   "source": [
    "#@title Define the functions that build and train a model\n",
    "def build_model(my_learning_rate):\n",
    "  \"\"\"Create and compile a simple linear regression model.\"\"\"\n",
    "  # Most simple tf.keras models are sequential.\n",
    "  model = tf.keras.models.Sequential()\n",
    "\n",
    "  # Add one linear layer to the model to yield a simple linear regressor.\n",
    "  model.add(tf.keras.layers.Dense(units=1, input_shape=(1,)))\n",
    "\n",
    "  # Compile the model topography into code that TensorFlow can efficiently\n",
    "  # execute. Configure training to minimize the model's mean squared error. \n",
    "  model.compile(optimizer=tf.keras.optimizers.RMSprop(lr=my_learning_rate),\n",
    "                loss=\"mean_squared_error\",\n",
    "                metrics=[tf.keras.metrics.RootMeanSquaredError()])\n",
    "\n",
    "  return model               \n",
    "\n",
    "\n",
    "def train_model(model, df, feature, label, my_epochs, \n",
    "                my_batch_size=None, my_validation_split=0.1):\n",
    "  \"\"\"Feed a dataset into the model in order to train it.\"\"\"\n",
    "\n",
    "  history = model.fit(x=df[feature],\n",
    "                      y=df[label],\n",
    "                      batch_size=my_batch_size,\n",
    "                      epochs=my_epochs,\n",
    "                      validation_split=my_validation_split)\n",
    "\n",
    "  # Gather the model's trained weight and bias.\n",
    "  trained_weight = model.get_weights()[0]\n",
    "  trained_bias = model.get_weights()[1]\n",
    "\n",
    "  # The list of epochs is stored separately from the \n",
    "  # rest of history.\n",
    "  epochs = history.epoch\n",
    "  \n",
    "  # Isolate the root mean squared error for each epoch.\n",
    "  hist = pd.DataFrame(history.history)\n",
    "  rmse = hist[\"root_mean_squared_error\"]\n",
    "\n",
    "  return epochs, rmse, history.history   \n",
    "\n",
    "print(\"Defined the build_model and train_model functions.\")"
   ]
  },
  {
   "cell_type": "code",
   "execution_count": 17,
   "id": "59610bcf",
   "metadata": {},
   "outputs": [
    {
     "name": "stdout",
     "output_type": "stream",
     "text": [
      "Defined the plot_the_loss_curve function.\n"
     ]
    }
   ],
   "source": [
    "#@title Define the plotting function\n",
    "\n",
    "def plot_the_loss_curve(epochs, mae_training, mae_validation):\n",
    "  \"\"\"Plot a curve of loss vs. epoch.\"\"\"\n",
    "\n",
    "  plt.figure()\n",
    "  plt.xlabel(\"Epoch\")\n",
    "  plt.ylabel(\"Root Mean Squared Error\")\n",
    "\n",
    "  plt.plot(epochs[1:], mae_training[1:], label=\"Training Loss\")\n",
    "  plt.plot(epochs[1:], mae_validation[1:], label=\"Validation Loss\")\n",
    "  plt.legend()\n",
    "  \n",
    "  # We're not going to plot the first epoch, since the loss on the first epoch\n",
    "  # is often substantially greater than the loss for other epochs.\n",
    "  merged_mae_lists = mae_training[1:] + mae_validation[1:]\n",
    "  highest_loss = max(merged_mae_lists)\n",
    "  lowest_loss = min(merged_mae_lists)\n",
    "  delta = highest_loss - lowest_loss\n",
    "  print(delta)\n",
    "\n",
    "  top_of_y_axis = highest_loss + (delta * 0.05)\n",
    "  bottom_of_y_axis = lowest_loss - (delta * 0.05)\n",
    "   \n",
    "  plt.ylim([bottom_of_y_axis, top_of_y_axis])\n",
    "  plt.show()  \n",
    "\n",
    "print(\"Defined the plot_the_loss_curve function.\")"
   ]
  },
  {
   "cell_type": "markdown",
   "id": "d1af4fce",
   "metadata": {},
   "source": [
    "Task 1: Experiment with the validation split\n",
    "In the following code cell, you'll see a variable named validation_split, which we've initialized at 0.2. The validation_split variable specifies the proportion of the original training set that will serve as the validation set. The original training set contains 17,000 examples. Therefore, a validation_split of 0.2 means that:\n",
    "\n",
    "17,000 * 0.2 ~= 3,400 examples will become the validation set.\n",
    "17,000 * 0.8 ~= 13,600 examples will become the new training set.\n",
    "The following code builds a model, trains it on the training set, and evaluates the built model on both:\n",
    "\n",
    "The training set.\n",
    "And the validation set.\n",
    "If the data in the training set is similar to the data in the validation set, then the two loss curves and the final loss values should be almost identical. However, the loss curves and final loss values are not almost identical. Hmm, that's odd.\n",
    "\n",
    "Experiment with two or three different values of validation_split. Do different values of validation_split fix the problem?"
   ]
  },
  {
   "cell_type": "code",
   "execution_count": 18,
   "id": "6fa1b96e",
   "metadata": {},
   "outputs": [
    {
     "name": "stderr",
     "output_type": "stream",
     "text": [
      "C:\\Users\\Mustafa Hasnain\\anaconda3\\lib\\site-packages\\keras\\optimizer_v2\\optimizer_v2.py:355: UserWarning: The `lr` argument is deprecated, use `learning_rate` instead.\n",
      "  warnings.warn(\n"
     ]
    },
    {
     "name": "stdout",
     "output_type": "stream",
     "text": [
      "Epoch 1/30\n",
      "136/136 [==============================] - 1s 3ms/step - loss: 37163.3242 - root_mean_squared_error: 192.7779 - val_loss: 44961.9297 - val_root_mean_squared_error: 212.0423\n",
      "Epoch 2/30\n",
      "136/136 [==============================] - 0s 1ms/step - loss: 20973.5215 - root_mean_squared_error: 144.8224 - val_loss: 25876.6895 - val_root_mean_squared_error: 160.8623\n",
      "Epoch 3/30\n",
      "136/136 [==============================] - 0s 2ms/step - loss: 11102.0957 - root_mean_squared_error: 105.3665 - val_loss: 14010.8896 - val_root_mean_squared_error: 118.3676\n",
      "Epoch 4/30\n",
      "136/136 [==============================] - 0s 1ms/step - loss: 6957.0576 - root_mean_squared_error: 83.4090 - val_loss: 9327.5898 - val_root_mean_squared_error: 96.5794\n",
      "Epoch 5/30\n",
      "136/136 [==============================] - 0s 1ms/step - loss: 6512.8623 - root_mean_squared_error: 80.7023 - val_loss: 9363.5391 - val_root_mean_squared_error: 96.7654\n",
      "Epoch 6/30\n",
      "136/136 [==============================] - 0s 1ms/step - loss: 6513.7812 - root_mean_squared_error: 80.7080 - val_loss: 9296.7080 - val_root_mean_squared_error: 96.4194\n",
      "Epoch 7/30\n",
      "136/136 [==============================] - 0s 1ms/step - loss: 6513.9092 - root_mean_squared_error: 80.7088 - val_loss: 9240.2734 - val_root_mean_squared_error: 96.1263\n",
      "Epoch 8/30\n",
      "136/136 [==============================] - 0s 1ms/step - loss: 6513.7349 - root_mean_squared_error: 80.7077 - val_loss: 9242.9863 - val_root_mean_squared_error: 96.1404\n",
      "Epoch 9/30\n",
      "136/136 [==============================] - 0s 1ms/step - loss: 6513.1616 - root_mean_squared_error: 80.7042 - val_loss: 9257.9990 - val_root_mean_squared_error: 96.2185\n",
      "Epoch 10/30\n",
      "136/136 [==============================] - 0s 1ms/step - loss: 6513.3682 - root_mean_squared_error: 80.7054 - val_loss: 9242.3008 - val_root_mean_squared_error: 96.1369\n",
      "Epoch 11/30\n",
      "136/136 [==============================] - 0s 1ms/step - loss: 6512.8794 - root_mean_squared_error: 80.7024 - val_loss: 9208.2012 - val_root_mean_squared_error: 95.9594\n",
      "Epoch 12/30\n",
      "136/136 [==============================] - 0s 1ms/step - loss: 6514.7607 - root_mean_squared_error: 80.7141 - val_loss: 9332.1250 - val_root_mean_squared_error: 96.6029\n",
      "Epoch 13/30\n",
      "136/136 [==============================] - 0s 2ms/step - loss: 6513.9932 - root_mean_squared_error: 80.7093 - val_loss: 9349.9189 - val_root_mean_squared_error: 96.6950\n",
      "Epoch 14/30\n",
      "136/136 [==============================] - 0s 2ms/step - loss: 6514.2632 - root_mean_squared_error: 80.7110 - val_loss: 9275.5791 - val_root_mean_squared_error: 96.3098\n",
      "Epoch 15/30\n",
      "136/136 [==============================] - 0s 1ms/step - loss: 6513.5151 - root_mean_squared_error: 80.7064 - val_loss: 9347.2773 - val_root_mean_squared_error: 96.6813\n",
      "Epoch 16/30\n",
      "136/136 [==============================] - 0s 2ms/step - loss: 6509.4336 - root_mean_squared_error: 80.6811 - val_loss: 9083.0596 - val_root_mean_squared_error: 95.3051\n",
      "Epoch 17/30\n",
      "136/136 [==============================] - 0s 1ms/step - loss: 6513.8130 - root_mean_squared_error: 80.7082 - val_loss: 9347.9102 - val_root_mean_squared_error: 96.6846\n",
      "Epoch 18/30\n",
      "136/136 [==============================] - 0s 1ms/step - loss: 6514.1406 - root_mean_squared_error: 80.7102 - val_loss: 9329.7021 - val_root_mean_squared_error: 96.5904\n",
      "Epoch 19/30\n",
      "136/136 [==============================] - 0s 2ms/step - loss: 6512.2769 - root_mean_squared_error: 80.6987 - val_loss: 9153.6309 - val_root_mean_squared_error: 95.6746\n",
      "Epoch 20/30\n",
      "136/136 [==============================] - 0s 2ms/step - loss: 6514.8423 - root_mean_squared_error: 80.7146 - val_loss: 9305.5781 - val_root_mean_squared_error: 96.4654\n",
      "Epoch 21/30\n",
      "136/136 [==============================] - 0s 1ms/step - loss: 6514.5796 - root_mean_squared_error: 80.7129 - val_loss: 9224.6582 - val_root_mean_squared_error: 96.0451\n",
      "Epoch 22/30\n",
      "136/136 [==============================] - 0s 2ms/step - loss: 6513.1353 - root_mean_squared_error: 80.7040 - val_loss: 9322.4990 - val_root_mean_squared_error: 96.5531\n",
      "Epoch 23/30\n",
      "136/136 [==============================] - 0s 1ms/step - loss: 6513.2720 - root_mean_squared_error: 80.7048 - val_loss: 9358.3223 - val_root_mean_squared_error: 96.7384\n",
      "Epoch 24/30\n",
      "136/136 [==============================] - 0s 1ms/step - loss: 6513.0322 - root_mean_squared_error: 80.7034 - val_loss: 9362.8525 - val_root_mean_squared_error: 96.7618\n",
      "Epoch 25/30\n",
      "136/136 [==============================] - 0s 1ms/step - loss: 6512.5366 - root_mean_squared_error: 80.7003 - val_loss: 9278.8838 - val_root_mean_squared_error: 96.3270\n",
      "Epoch 26/30\n",
      "136/136 [==============================] - 0s 1ms/step - loss: 6514.1216 - root_mean_squared_error: 80.7101 - val_loss: 9237.5811 - val_root_mean_squared_error: 96.1123\n",
      "Epoch 27/30\n",
      "136/136 [==============================] - 0s 2ms/step - loss: 6512.1973 - root_mean_squared_error: 80.6982 - val_loss: 9180.1406 - val_root_mean_squared_error: 95.8130\n",
      "Epoch 28/30\n",
      "136/136 [==============================] - 0s 1ms/step - loss: 6513.0166 - root_mean_squared_error: 80.7033 - val_loss: 9323.0986 - val_root_mean_squared_error: 96.5562\n",
      "Epoch 29/30\n",
      "136/136 [==============================] - 0s 1ms/step - loss: 6513.6851 - root_mean_squared_error: 80.7074 - val_loss: 9204.2578 - val_root_mean_squared_error: 95.9388\n",
      "Epoch 30/30\n",
      "136/136 [==============================] - 0s 1ms/step - loss: 6513.7856 - root_mean_squared_error: 80.7080 - val_loss: 9286.2910 - val_root_mean_squared_error: 96.3654\n",
      "80.1812744140625\n"
     ]
    },
    {
     "data": {
      "image/png": "[encoded data removed]",
      "text/plain": [
       "<Figure size 432x288 with 1 Axes>"
      ]
     },
     "metadata": {
      "needs_background": "light"
     },
     "output_type": "display_data"
    }
   ],
   "source": [
    "# The following variables are the hyperparameters.\n",
    "learning_rate = 0.08\n",
    "epochs = 30\n",
    "batch_size = 100\n",
    "\n",
    "# Split the original training set into a reduced training set and a\n",
    "# validation set. \n",
    "validation_split = 0.2\n",
    "\n",
    "# Identify the feature and the label.\n",
    "my_feature = \"median_income\"    # the median income on a specific city block.\n",
    "my_label = \"median_house_value\" # the median house value on a specific city block.\n",
    "# That is, you're going to create a model that predicts house value based \n",
    "# solely on the neighborhood's median income.  \n",
    "\n",
    "# Discard any pre-existing version of the model.\n",
    "my_model = None\n",
    "\n",
    "# Invoke the functions to build and train the model.\n",
    "my_model = build_model(learning_rate)\n",
    "epochs, rmse, history = train_model(my_model, train_set, my_feature, \n",
    "                                    my_label, epochs, batch_size, \n",
    "                                    validation_split)\n",
    "\n",
    "plot_the_loss_curve(epochs, history[\"root_mean_squared_error\"], \n",
    "                    history[\"val_root_mean_squared_error\"])"
   ]
  },
  {
   "cell_type": "markdown",
   "id": "d7515744",
   "metadata": {},
   "source": [
    "Task 2: Determine why the loss curves differ\n",
    "No matter how you split the training set and the validation set, the loss curves differ significantly. Evidently, the data in the training set isn't similar enough to the data in the validation set. Counterintuitive? Yes, but this problem is actually pretty common in machine learning."
   ]
  },
  {
   "cell_type": "markdown",
   "id": "4c72a5cf",
   "metadata": {},
   "source": [
    "Task 3. Fix the problem\n",
    "To fix the problem, shuffle the examples in the training set before splitting the examples into a training set and validation set. To do so, take the following steps:\n",
    "\n",
    "Shuffle the data in the training set by adding the following line anywhere before you call train_model (in the code cell associated with Task 1):\n",
    "  shuffled_train_df = train_df.reindex(np.random.permutation(train_df.index))\n",
    "Pass shuffled_train_df (instead of train_df) as the second argument to train_model (in the code call associated with Task 1) so that the call becomes as follows:\n",
    "  epochs, rmse, history = train_model(my_model, shuffled_train_df, my_feature, \n",
    "                                      my_label, epochs, batch_size, \n",
    "                                      validation_split)"
   ]
  },
  {
   "cell_type": "code",
   "execution_count": 22,
   "id": "41a7a4a4",
   "metadata": {
    "scrolled": false
   },
   "outputs": [
    {
     "name": "stderr",
     "output_type": "stream",
     "text": [
      "C:\\Users\\Mustafa Hasnain\\anaconda3\\lib\\site-packages\\keras\\optimizer_v2\\optimizer_v2.py:355: UserWarning: The `lr` argument is deprecated, use `learning_rate` instead.\n",
      "  warnings.warn(\n"
     ]
    },
    {
     "name": "stdout",
     "output_type": "stream",
     "text": [
      "Epoch 1/30\n",
      "136/136 [==============================] - 1s 2ms/step - loss: 43541.1289 - root_mean_squared_error: 208.6651 - val_loss: 34503.0156 - val_root_mean_squared_error: 185.7499\n",
      "Epoch 2/30\n",
      "136/136 [==============================] - 0s 1ms/step - loss: 25432.2227 - root_mean_squared_error: 159.4748 - val_loss: 19238.9395 - val_root_mean_squared_error: 138.7045\n",
      "Epoch 3/30\n",
      "136/136 [==============================] - 0s 1ms/step - loss: 13655.8125 - root_mean_squared_error: 116.8581 - val_loss: 10292.3408 - val_root_mean_squared_error: 101.4512\n",
      "Epoch 4/30\n",
      "136/136 [==============================] - 0s 1ms/step - loss: 7983.7666 - root_mean_squared_error: 89.3519 - val_loss: 7340.3501 - val_root_mean_squared_error: 85.6758\n",
      "Epoch 5/30\n",
      "136/136 [==============================] - 0s 1ms/step - loss: 6955.2754 - root_mean_squared_error: 83.3983 - val_loss: 7272.7261 - val_root_mean_squared_error: 85.2803\n",
      "Epoch 6/30\n",
      "136/136 [==============================] - 0s 1ms/step - loss: 6950.1929 - root_mean_squared_error: 83.3678 - val_loss: 7276.2017 - val_root_mean_squared_error: 85.3007\n",
      "Epoch 7/30\n",
      "136/136 [==============================] - 0s 1ms/step - loss: 6951.2192 - root_mean_squared_error: 83.3740 - val_loss: 7273.8794 - val_root_mean_squared_error: 85.2870\n",
      "Epoch 8/30\n",
      "136/136 [==============================] - 0s 1ms/step - loss: 6950.7129 - root_mean_squared_error: 83.3709 - val_loss: 7271.8857 - val_root_mean_squared_error: 85.2754\n",
      "Epoch 9/30\n",
      "136/136 [==============================] - 0s 1ms/step - loss: 6950.3154 - root_mean_squared_error: 83.3685 - val_loss: 7277.2031 - val_root_mean_squared_error: 85.3065\n",
      "Epoch 10/30\n",
      "136/136 [==============================] - 0s 1ms/step - loss: 6949.3794 - root_mean_squared_error: 83.3629 - val_loss: 7272.4990 - val_root_mean_squared_error: 85.2789\n",
      "Epoch 11/30\n",
      "136/136 [==============================] - 0s 1ms/step - loss: 6947.8506 - root_mean_squared_error: 83.3538 - val_loss: 7284.0728 - val_root_mean_squared_error: 85.3468\n",
      "Epoch 12/30\n",
      "136/136 [==============================] - 0s 1ms/step - loss: 6950.3916 - root_mean_squared_error: 83.3690 - val_loss: 7280.1001 - val_root_mean_squared_error: 85.3235\n",
      "Epoch 13/30\n",
      "136/136 [==============================] - 0s 1ms/step - loss: 6949.3887 - root_mean_squared_error: 83.3630 - val_loss: 7283.7822 - val_root_mean_squared_error: 85.3451\n",
      "Epoch 14/30\n",
      "136/136 [==============================] - 0s 1ms/step - loss: 6951.0981 - root_mean_squared_error: 83.3732 - val_loss: 7271.6128 - val_root_mean_squared_error: 85.2738\n",
      "Epoch 15/30\n",
      "136/136 [==============================] - 0s 1ms/step - loss: 6948.8877 - root_mean_squared_error: 83.3600 - val_loss: 7275.2939 - val_root_mean_squared_error: 85.2953\n",
      "Epoch 16/30\n",
      "136/136 [==============================] - 0s 1ms/step - loss: 6950.5176 - root_mean_squared_error: 83.3698 - val_loss: 7272.4907 - val_root_mean_squared_error: 85.2789\n",
      "Epoch 17/30\n",
      "136/136 [==============================] - 0s 1ms/step - loss: 6950.4590 - root_mean_squared_error: 83.3694 - val_loss: 7271.4199 - val_root_mean_squared_error: 85.2726\n",
      "Epoch 18/30\n",
      "136/136 [==============================] - 0s 1ms/step - loss: 6950.1152 - root_mean_squared_error: 83.3673 - val_loss: 7277.2900 - val_root_mean_squared_error: 85.3070\n",
      "Epoch 19/30\n",
      "136/136 [==============================] - 0s 1ms/step - loss: 6950.9121 - root_mean_squared_error: 83.3721 - val_loss: 7274.5151 - val_root_mean_squared_error: 85.2908\n",
      "Epoch 20/30\n",
      "136/136 [==============================] - 0s 1ms/step - loss: 6949.9521 - root_mean_squared_error: 83.3664 - val_loss: 7277.8340 - val_root_mean_squared_error: 85.3102\n",
      "Epoch 21/30\n",
      "136/136 [==============================] - 0s 1ms/step - loss: 6950.0083 - root_mean_squared_error: 83.3667 - val_loss: 7275.1445 - val_root_mean_squared_error: 85.2945\n",
      "Epoch 22/30\n",
      "136/136 [==============================] - 0s 1ms/step - loss: 6949.7080 - root_mean_squared_error: 83.3649 - val_loss: 7271.8286 - val_root_mean_squared_error: 85.2750\n",
      "Epoch 23/30\n",
      "136/136 [==============================] - 0s 1ms/step - loss: 6949.9624 - root_mean_squared_error: 83.3664 - val_loss: 7272.8828 - val_root_mean_squared_error: 85.2812\n",
      "Epoch 24/30\n",
      "136/136 [==============================] - 0s 1ms/step - loss: 6949.3467 - root_mean_squared_error: 83.3627 - val_loss: 7281.0571 - val_root_mean_squared_error: 85.3291\n",
      "Epoch 25/30\n",
      "136/136 [==============================] - 0s 1ms/step - loss: 6950.8960 - root_mean_squared_error: 83.3720 - val_loss: 7273.8784 - val_root_mean_squared_error: 85.2870\n",
      "Epoch 26/30\n",
      "136/136 [==============================] - 0s 1ms/step - loss: 6949.2695 - root_mean_squared_error: 83.3623 - val_loss: 7274.0347 - val_root_mean_squared_error: 85.2879\n",
      "Epoch 27/30\n",
      "136/136 [==============================] - 0s 1ms/step - loss: 6949.9653 - root_mean_squared_error: 83.3665 - val_loss: 7276.7881 - val_root_mean_squared_error: 85.3041\n",
      "Epoch 28/30\n",
      "136/136 [==============================] - 0s 1ms/step - loss: 6951.2822 - root_mean_squared_error: 83.3744 - val_loss: 7271.6411 - val_root_mean_squared_error: 85.2739\n",
      "Epoch 29/30\n",
      "136/136 [==============================] - 0s 1ms/step - loss: 6949.7666 - root_mean_squared_error: 83.3653 - val_loss: 7272.7939 - val_root_mean_squared_error: 85.2807\n",
      "Epoch 30/30\n",
      "136/136 [==============================] - 0s 1ms/step - loss: 6950.0586 - root_mean_squared_error: 83.3670 - val_loss: 7275.4272 - val_root_mean_squared_error: 85.2961\n",
      "76.1210708618164\n"
     ]
    },
    {
     "data": {
      "image/png": "[encoded data removed]",
      "text/plain": [
       "<Figure size 432x288 with 1 Axes>"
      ]
     },
     "metadata": {
      "needs_background": "light"
     },
     "output_type": "display_data"
    }
   ],
   "source": [
    "learning_rate = 0.08\n",
    "epochs = 30\n",
    "batch_size = 100\n",
    "validation_split = 0.2\n",
    "#shuffling data in the training set\n",
    "train_shuffle_data = train_set.reindex(np.random.permutation(train_set.index))\n",
    "my_feature = \"median_income\"\n",
    "my_label = \"median_house_value\"\n",
    "my_model = build_model(learning_rate)\n",
    "epochs, rmse, history = train_model(my_model, train_shuffle_data, my_feature,my_label, epochs, batch_size, validation_split)\n",
    "plot_the_loss_curve(epochs, history[\"root_mean_squared_error\"], history[\"val_root_mean_squared_error\"])"
   ]
  },
  {
   "cell_type": "code",
   "execution_count": 23,
   "id": "643a441b",
   "metadata": {},
   "outputs": [],
   "source": [
    "# Yes, after shuffling the original training set, \n",
    "# the final loss for the training set and the \n",
    "# validation set become much closer.\n",
    "\n",
    "# If validation_split < 0.15,\n",
    "# the final loss values for the training set and\n",
    "# validation set diverge meaningfully.  Apparently,\n",
    "# the validation set no longer contains enough examples. "
   ]
  },
  {
   "cell_type": "markdown",
   "id": "b6f47964",
   "metadata": {},
   "source": [
    "Task 4: Use the Test Dataset to Evaluate Your Model's Performance\n",
    "The test set usually acts as the ultimate judge of a model's quality. The test set can serve as an impartial judge because its examples haven't been used in training the model. Run the following code cell to evaluate the model with the test set:\n",
    "\n",
    "x_test = test_df[my_feature]\n",
    "y_test = test_df[my_label]\n",
    "\n",
    "results = my_model.evaluate(x_test, y_test, batch_size=batch_size)\n",
    "\n",
    "Compare the root mean squared error of the model when evaluated on each of the three datasets:\n",
    "\n",
    "training set: look for root_mean_squared_error in the final training epoch.\n",
    "validation set: look for val_root_mean_squared_error in the final training epoch.\n",
    "test set: run the preceding code cell and examine the root_mean_squared_error.\n",
    "Ideally, the root mean squared error of all three sets should be similar. Are they?"
   ]
  },
  {
   "cell_type": "code",
   "execution_count": null,
   "id": "0226168b",
   "metadata": {},
   "outputs": [],
   "source": []
  }
 ],
 "metadata": {
  "kernelspec": {
   "display_name": "Python 3",
   "language": "python",
   "name": "python3"
  },
  "language_info": {
   "codemirror_mode": {
    "name": "ipython",
    "version": 3
   },
   "file_extension": ".py",
   "mimetype": "text/x-python",
   "name": "python",
   "nbconvert_exporter": "python",
   "pygments_lexer": "ipython3",
   "version": "3.8.8"
  }
 },
 "nbformat": 4,
 "nbformat_minor": 5
}
