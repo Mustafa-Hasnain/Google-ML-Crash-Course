{
 "cells": [
  {
   "cell_type": "code",
   "execution_count": 1,
   "id": "e50730a7",
   "metadata": {},
   "outputs": [],
   "source": [
    "import numpy as np\n",
    "import pandas as pd\n",
    "import tensorflow as tf\n",
    "from tensorflow.keras import layers\n",
    "import matplotlib.pyplot as plt"
   ]
  },
  {
   "cell_type": "markdown",
   "id": "c77cd27a",
   "metadata": {},
   "source": [
    "# Load the dataset\n",
    "tf.keras provides a set of convenience functions for loading well-known datasets. Each of these convenience functions does the following:\n",
    "\n",
    "Loads both the training set and the test set.\n",
    "Separates each set into features and labels.\n",
    "The relevant convenience function for MNIST is called mnist.load_data():"
   ]
  },
  {
   "cell_type": "code",
   "execution_count": 2,
   "id": "1bfa5d4c",
   "metadata": {},
   "outputs": [],
   "source": [
    "(x_train, y_train), (x_test, y_test) = tf.keras.datasets.mnist.load_data()"
   ]
  },
  {
   "cell_type": "markdown",
   "id": "a87f33bc",
   "metadata": {},
   "source": [
    "Notice that mnist.load_data() returned four separate values:\n",
    "\n",
    "x_train contains the training set's features.\n",
    "y_train contains the training set's labels.\n",
    "x_test contains the test set's features.\n",
    "y_test contains the test set's labels.\n",
    "Note: The MNIST .csv training set is already shuffled."
   ]
  },
  {
   "cell_type": "markdown",
   "id": "865c565b",
   "metadata": {},
   "source": [
    "# View the dataset\n",
    "The .csv file for the California Housing Dataset contains column names (for example, latitude, longitude, population). By contrast, the .csv file for MNIST does not contain column names. Instead of column names, you use ordinal numbers to access different subsets of the MNIST dataset. In fact, it is probably best to think of x_train and x_test as three-dimensional NumPy arrays:"
   ]
  },
  {
   "cell_type": "code",
   "execution_count": 3,
   "id": "50ebec67",
   "metadata": {},
   "outputs": [
    {
     "data": {
      "text/plain": [
       "array([[  0,   0,   0,   0,   0,   0,   0,   0,   0,   0,   0,   0,   0,\n",
       "          0,   0,   0,   0,   0,   0,   0,   0,   0,   0,   0,   0,   0,\n",
       "          0,   0],\n",
       "       [  0,   0,   0,   0,   0,   0,   0,   0,   0,   0,   0,   0,   0,\n",
       "          0,   0,   0,   0,   0,   0,   0,   0,   0,   0,   0,   0,   0,\n",
       "          0,   0],\n",
       "       [  0,   0,   0,   0,   0,   0,   0,   0,   0,   0,   0,   0,   0,\n",
       "          0,   0,   0,   0,   0,   0,   0,   0,   0,   0,   0,   0,   0,\n",
       "          0,   0],\n",
       "       [  0,   0,   0,   0,   0,   0,   0,   0,   0,   0,   0,   0,   0,\n",
       "          0,   0,   0,   0,   0,   0,   0,   0,   0,   0,   0,   0,   0,\n",
       "          0,   0],\n",
       "       [  0,   0,   0,   0,   0,   0,   0,   0,   0,   0,   0,  42, 118,\n",
       "        219, 166, 118, 118,   6,   0,   0,   0,   0,   0,   0,   0,   0,\n",
       "          0,   0],\n",
       "       [  0,   0,   0,   0,   0,   0,   0,   0,   0,   0, 103, 242, 254,\n",
       "        254, 254, 254, 254,  66,   0,   0,   0,   0,   0,   0,   0,   0,\n",
       "          0,   0],\n",
       "       [  0,   0,   0,   0,   0,   0,   0,   0,   0,   0,  18, 232, 254,\n",
       "        254, 254, 254, 254, 238,  70,   0,   0,   0,   0,   0,   0,   0,\n",
       "          0,   0],\n",
       "       [  0,   0,   0,   0,   0,   0,   0,   0,   0,   0,   0, 104, 244,\n",
       "        254, 224, 254, 254, 254, 141,   0,   0,   0,   0,   0,   0,   0,\n",
       "          0,   0],\n",
       "       [  0,   0,   0,   0,   0,   0,   0,   0,   0,   0,   0,   0, 207,\n",
       "        254, 210, 254, 254, 254,  34,   0,   0,   0,   0,   0,   0,   0,\n",
       "          0,   0],\n",
       "       [  0,   0,   0,   0,   0,   0,   0,   0,   0,   0,   0,   0,  84,\n",
       "        206, 254, 254, 254, 254,  41,   0,   0,   0,   0,   0,   0,   0,\n",
       "          0,   0],\n",
       "       [  0,   0,   0,   0,   0,   0,   0,   0,   0,   0,   0,   0,   0,\n",
       "         24, 209, 254, 254, 254, 171,   0,   0,   0,   0,   0,   0,   0,\n",
       "          0,   0],\n",
       "       [  0,   0,   0,   0,   0,   0,   0,   0,   0,   0,   0,   0,  91,\n",
       "        137, 253, 254, 254, 254, 112,   0,   0,   0,   0,   0,   0,   0,\n",
       "          0,   0],\n",
       "       [  0,   0,   0,   0,   0,   0,   0,   0,   0,   0,  40, 214, 250,\n",
       "        254, 254, 254, 254, 254,  34,   0,   0,   0,   0,   0,   0,   0,\n",
       "          0,   0],\n",
       "       [  0,   0,   0,   0,   0,   0,   0,   0,   0,   0,  81, 247, 254,\n",
       "        254, 254, 254, 254, 254, 146,   0,   0,   0,   0,   0,   0,   0,\n",
       "          0,   0],\n",
       "       [  0,   0,   0,   0,   0,   0,   0,   0,   0,   0,   0, 110, 246,\n",
       "        254, 254, 254, 254, 254, 171,   0,   0,   0,   0,   0,   0,   0,\n",
       "          0,   0],\n",
       "       [  0,   0,   0,   0,   0,   0,   0,   0,   0,   0,   0,   0,  73,\n",
       "         89,  89,  93, 240, 254, 171,   0,   0,   0,   0,   0,   0,   0,\n",
       "          0,   0],\n",
       "       [  0,   0,   0,   0,   0,   0,   0,   0,   0,   0,   0,   0,   0,\n",
       "          0,   0,   1, 128, 254, 219,  31,   0,   0,   0,   0,   0,   0,\n",
       "          0,   0],\n",
       "       [  0,   0,   0,   0,   0,   0,   0,   0,   0,   0,   0,   0,   0,\n",
       "          0,   0,   7, 254, 254, 214,  28,   0,   0,   0,   0,   0,   0,\n",
       "          0,   0],\n",
       "       [  0,   0,   0,   0,   0,   0,   0,   0,   0,   0,   0,   0,   0,\n",
       "          0,   0, 138, 254, 254, 116,   0,   0,   0,   0,   0,   0,   0,\n",
       "          0,   0],\n",
       "       [  0,   0,   0,   0,   0,   0,  19, 177,  90,   0,   0,   0,   0,\n",
       "          0,  25, 240, 254, 254,  34,   0,   0,   0,   0,   0,   0,   0,\n",
       "          0,   0],\n",
       "       [  0,   0,   0,   0,   0,   0, 164, 254, 215,  63,  36,   0,  51,\n",
       "         89, 206, 254, 254, 139,   8,   0,   0,   0,   0,   0,   0,   0,\n",
       "          0,   0],\n",
       "       [  0,   0,   0,   0,   0,   0,  57, 197, 254, 254, 222, 180, 241,\n",
       "        254, 254, 253, 213,  11,   0,   0,   0,   0,   0,   0,   0,   0,\n",
       "          0,   0],\n",
       "       [  0,   0,   0,   0,   0,   0,   0, 140, 105, 254, 254, 254, 254,\n",
       "        254, 254, 236,   0,   0,   0,   0,   0,   0,   0,   0,   0,   0,\n",
       "          0,   0],\n",
       "       [  0,   0,   0,   0,   0,   0,   0,   0,   7, 117, 117, 165, 254,\n",
       "        254, 239,  50,   0,   0,   0,   0,   0,   0,   0,   0,   0,   0,\n",
       "          0,   0],\n",
       "       [  0,   0,   0,   0,   0,   0,   0,   0,   0,   0,   0,   0,   0,\n",
       "          0,   0,   0,   0,   0,   0,   0,   0,   0,   0,   0,   0,   0,\n",
       "          0,   0],\n",
       "       [  0,   0,   0,   0,   0,   0,   0,   0,   0,   0,   0,   0,   0,\n",
       "          0,   0,   0,   0,   0,   0,   0,   0,   0,   0,   0,   0,   0,\n",
       "          0,   0],\n",
       "       [  0,   0,   0,   0,   0,   0,   0,   0,   0,   0,   0,   0,   0,\n",
       "          0,   0,   0,   0,   0,   0,   0,   0,   0,   0,   0,   0,   0,\n",
       "          0,   0],\n",
       "       [  0,   0,   0,   0,   0,   0,   0,   0,   0,   0,   0,   0,   0,\n",
       "          0,   0,   0,   0,   0,   0,   0,   0,   0,   0,   0,   0,   0,\n",
       "          0,   0]], dtype=uint8)"
      ]
     },
     "execution_count": 3,
     "metadata": {},
     "output_type": "execute_result"
    }
   ],
   "source": [
    "x_train[10]"
   ]
  },
  {
   "cell_type": "markdown",
   "id": "f25edae1",
   "metadata": {},
   "source": [
    "# Alternatively, you can call matplotlib.pyplot.imshow to interpret the preceding numeric array as an image."
   ]
  },
  {
   "cell_type": "code",
   "execution_count": 4,
   "id": "446ae0b5",
   "metadata": {},
   "outputs": [
    {
     "data": {
      "text/plain": [
       "<matplotlib.image.AxesImage at 0x2dcd0ace400>"
      ]
     },
     "execution_count": 4,
     "metadata": {},
     "output_type": "execute_result"
    },
    {
     "data": {
      "image/png": "[encoded data removed]",
      "text/plain": [
       "<Figure size 432x288 with 1 Axes>"
      ]
     },
     "metadata": {
      "needs_background": "light"
     },
     "output_type": "display_data"
    }
   ],
   "source": [
    "plt.imshow(x_train[2917])"
   ]
  },
  {
   "cell_type": "code",
   "execution_count": 5,
   "id": "7ce82cf1",
   "metadata": {},
   "outputs": [
    {
     "data": {
      "text/plain": [
       "array([  0,   0,   0,   0,   0,   0,   0,   0,   0,   0,   0,   0,   0,\n",
       "         0,   0,   0,  58, 254, 216,  11,   0,   0,   0,   0,   0,   0,\n",
       "         0,   0], dtype=uint8)"
      ]
     },
     "execution_count": 5,
     "metadata": {},
     "output_type": "execute_result"
    }
   ],
   "source": [
    "# Output row #10 of example #2917.\n",
    "x_train[2917][10]"
   ]
  },
  {
   "cell_type": "code",
   "execution_count": 6,
   "id": "905a0ca3",
   "metadata": {},
   "outputs": [
    {
     "data": {
      "text/plain": [
       "58"
      ]
     },
     "execution_count": 6,
     "metadata": {},
     "output_type": "execute_result"
    }
   ],
   "source": [
    "# Output pixel #16 of row #10 of example #2900.\n",
    "x_train[2917][10][16]"
   ]
  },
  {
   "cell_type": "markdown",
   "id": "98feeb58",
   "metadata": {},
   "source": [
    "# Task 1: Normalize feature values\n",
    "Complete the following code cell to map each feature value from its current representation (an integer between 0 and 255) to a floating-point value between 0 and 1.0. Store the floating-point values in x_train_normalized and x_test_normalized."
   ]
  },
  {
   "cell_type": "code",
   "execution_count": 7,
   "id": "1e2cd991",
   "metadata": {},
   "outputs": [
    {
     "name": "stdout",
     "output_type": "stream",
     "text": [
      "[0.         0.         0.         0.         0.         0.\n",
      " 0.         0.55294118 1.         0.66666667 0.11372549 0.\n",
      " 0.         0.         0.         0.         0.         0.\n",
      " 0.         0.         0.         0.         0.         0.\n",
      " 0.         0.         0.         0.        ]\n"
     ]
    }
   ],
   "source": [
    "x_train_normalized = x_train/255.0\n",
    "x_test_normalized = x_test/255.0\n",
    "print(x_train_normalized[2900][10]) # Output a normalized row"
   ]
  },
  {
   "cell_type": "markdown",
   "id": "347d8f1c",
   "metadata": {},
   "source": [
    "# Create a deep neural net model\n",
    "The create_model function defines the topography of the deep neural net, specifying the following:\n",
    "\n",
    "The number of layers in the deep neural net.\n",
    "The number of nodes in each layer.\n",
    "Any regularization layers.\n",
    "The create_model function also defines the activation function of each layer. The activation function of the output layer is softmax, which will yield 10 different outputs for each example. Each of the 10 outputs provides the probability that the input example is a certain digit.\n",
    "\n",
    "Note: Unlike several of the recent Colabs, this exercise does not define feature columns or a feature layer. Instead, the model will train on the NumPy array."
   ]
  },
  {
   "cell_type": "code",
   "execution_count": 11,
   "id": "b798f96a",
   "metadata": {},
   "outputs": [],
   "source": [
    "def create_model(learning_rate):#here feature layer will not be used like other exercises\n",
    "    model = tf.keras.Sequential()\n",
    "    \n",
    "    # The features are stored in a two-dimensional 28X28 array. \n",
    "  # Flatten that two-dimensional array into a a one-dimensional \n",
    "  # 784-element array.\n",
    "    model.add(tf.keras.layers.Flatten(input_shape = (28, 28)))\n",
    "    \n",
    "    # Define the first hidden layer.   \n",
    "    model.add(tf.keras.layers.Dense(units = 32, activation = \"relu\"))\n",
    "    \n",
    "    #Define a Deopout regulization layer\n",
    "    model.add(tf.keras.layers.Dropout(rate =0.2))\n",
    "    \n",
    "    # Define the output layer. The units parameter is set to 10 because\n",
    "  # the model must choose among 10 possible output values (representing\n",
    "  # the digits from 0 to 9, inclusive).\n",
    "  #\n",
    "  # Don't change this layer.\n",
    "    model.add(tf.keras.layers.Dense(units = 32, activation = \"softmax\"))\n",
    "    \n",
    "    # Construct the layers into a model that TensorFlow can execute.  \n",
    "  # Notice that the loss function for multi-class classification\n",
    "  # is different than the loss function for binary classification.  \n",
    "    \n",
    "    model.compile(optimizer=tf.keras.optimizers.Adam(learning_rate), loss=\"sparse_categorical_crossentropy\",metrics=[\"accuracy\"])\n",
    "    \n",
    "    return model\n",
    "\n",
    "#Now to Train Model\n",
    "def train_model(model, train_features, train_label ,epochs, batch_size,validation_split = 0.1):\n",
    "    history = model.fit(x= train_features, y = train_label, epochs = epochs, batch_size = batch_size ,validation_split= validation_split)\n",
    "     # To track the progression of training, gather a snapshot\n",
    "  # of the model's metrics at each epoch. \n",
    "    epochs = history.epoch\n",
    "    hist = pd.DataFrame(history.history)\n",
    "    \n",
    "    return epochs, hist\n",
    "    "
   ]
  },
  {
   "cell_type": "markdown",
   "id": "ebd6150e",
   "metadata": {},
   "source": [
    "# Define a plotting function\n",
    "The following function plots an accuracy curve:"
   ]
  },
  {
   "cell_type": "code",
   "execution_count": 14,
   "id": "94efbb21",
   "metadata": {},
   "outputs": [],
   "source": [
    "def plot_curve(epochs, hist, list_of_metrices):\n",
    "    plt.figure()\n",
    "    plt.xlabel(\"Epoch\")\n",
    "    plt.ylabel(\"Value\")\n",
    "    \n",
    "    for i in list_of_metrices:\n",
    "        x = hist[i]\n",
    "        plt.plot(epochs[1:], x[1: ], label = i)\n",
    "    \n",
    "    plt.legend()"
   ]
  },
  {
   "cell_type": "markdown",
   "id": "1d0d597f",
   "metadata": {},
   "source": [
    "# Invoke the previous functions\n",
    "Run the following code cell to invoke the preceding functions and actually train the model on the training set.\n",
    "\n",
    "Note: Due to several factors (for example, more examples and a more complex neural network) training MNIST might take longer than training the California Housing Dataset. Be patient."
   ]
  },
  {
   "cell_type": "code",
   "execution_count": 15,
   "id": "6bbdd2c1",
   "metadata": {},
   "outputs": [
    {
     "name": "stdout",
     "output_type": "stream",
     "text": [
      "Epoch 1/50\n",
      "12/12 [==============================] - 1s 33ms/step - loss: 2.5169 - accuracy: 0.2399 - val_loss: 1.5399 - val_accuracy: 0.6104\n",
      "Epoch 2/50\n",
      "12/12 [==============================] - 0s 23ms/step - loss: 1.3667 - accuracy: 0.5882 - val_loss: 0.8263 - val_accuracy: 0.8034\n",
      "Epoch 3/50\n",
      "12/12 [==============================] - 0s 23ms/step - loss: 0.9026 - accuracy: 0.7241 - val_loss: 0.5680 - val_accuracy: 0.8547\n",
      "Epoch 4/50\n",
      "12/12 [==============================] - 0s 25ms/step - loss: 0.6924 - accuracy: 0.7925 - val_loss: 0.4490 - val_accuracy: 0.8818\n",
      "Epoch 5/50\n",
      "12/12 [==============================] - 0s 24ms/step - loss: 0.5796 - accuracy: 0.8279 - val_loss: 0.3843 - val_accuracy: 0.8974\n",
      "Epoch 6/50\n",
      "12/12 [==============================] - 0s 23ms/step - loss: 0.5123 - accuracy: 0.8475 - val_loss: 0.3451 - val_accuracy: 0.9047\n",
      "Epoch 7/50\n",
      "12/12 [==============================] - 0s 24ms/step - loss: 0.4667 - accuracy: 0.8641 - val_loss: 0.3177 - val_accuracy: 0.9128\n",
      "Epoch 8/50\n",
      "12/12 [==============================] - 0s 24ms/step - loss: 0.4338 - accuracy: 0.8720 - val_loss: 0.2985 - val_accuracy: 0.9187\n",
      "Epoch 9/50\n",
      "12/12 [==============================] - 0s 24ms/step - loss: 0.4091 - accuracy: 0.8831 - val_loss: 0.2854 - val_accuracy: 0.9211\n",
      "Epoch 10/50\n",
      "12/12 [==============================] - 0s 24ms/step - loss: 0.3925 - accuracy: 0.8843 - val_loss: 0.2728 - val_accuracy: 0.9254\n",
      "Epoch 11/50\n",
      "12/12 [==============================] - 0s 28ms/step - loss: 0.3788 - accuracy: 0.8890 - val_loss: 0.2629 - val_accuracy: 0.9272\n",
      "Epoch 12/50\n",
      "12/12 [==============================] - 0s 25ms/step - loss: 0.3650 - accuracy: 0.8932 - val_loss: 0.2540 - val_accuracy: 0.9297\n",
      "Epoch 13/50\n",
      "12/12 [==============================] - 0s 24ms/step - loss: 0.3574 - accuracy: 0.8956 - val_loss: 0.2479 - val_accuracy: 0.9313\n",
      "Epoch 14/50\n",
      "12/12 [==============================] - 0s 26ms/step - loss: 0.3437 - accuracy: 0.9009 - val_loss: 0.2407 - val_accuracy: 0.9332\n",
      "Epoch 15/50\n",
      "12/12 [==============================] - 0s 24ms/step - loss: 0.3382 - accuracy: 0.9015 - val_loss: 0.2346 - val_accuracy: 0.9352\n",
      "Epoch 16/50\n",
      "12/12 [==============================] - 0s 25ms/step - loss: 0.3284 - accuracy: 0.9051 - val_loss: 0.2294 - val_accuracy: 0.9368\n",
      "Epoch 17/50\n",
      "12/12 [==============================] - 0s 26ms/step - loss: 0.3236 - accuracy: 0.9054 - val_loss: 0.2251 - val_accuracy: 0.9369\n",
      "Epoch 18/50\n",
      "12/12 [==============================] - 0s 28ms/step - loss: 0.3143 - accuracy: 0.9076 - val_loss: 0.2202 - val_accuracy: 0.9382\n",
      "Epoch 19/50\n",
      "12/12 [==============================] - 0s 27ms/step - loss: 0.3081 - accuracy: 0.9096 - val_loss: 0.2165 - val_accuracy: 0.9391\n",
      "Epoch 20/50\n",
      "12/12 [==============================] - 0s 25ms/step - loss: 0.2994 - accuracy: 0.9115 - val_loss: 0.2121 - val_accuracy: 0.9398\n",
      "Epoch 21/50\n",
      "12/12 [==============================] - 0s 24ms/step - loss: 0.2980 - accuracy: 0.9126 - val_loss: 0.2088 - val_accuracy: 0.9413\n",
      "Epoch 22/50\n",
      "12/12 [==============================] - 0s 24ms/step - loss: 0.2899 - accuracy: 0.9149 - val_loss: 0.2044 - val_accuracy: 0.9421\n",
      "Epoch 23/50\n",
      "12/12 [==============================] - 0s 23ms/step - loss: 0.2859 - accuracy: 0.9162 - val_loss: 0.2014 - val_accuracy: 0.9427\n",
      "Epoch 24/50\n",
      "12/12 [==============================] - 0s 26ms/step - loss: 0.2807 - accuracy: 0.9182 - val_loss: 0.1977 - val_accuracy: 0.9442\n",
      "Epoch 25/50\n",
      "12/12 [==============================] - 0s 25ms/step - loss: 0.2755 - accuracy: 0.9182 - val_loss: 0.1956 - val_accuracy: 0.9436\n",
      "Epoch 26/50\n",
      "12/12 [==============================] - 0s 24ms/step - loss: 0.2741 - accuracy: 0.9191 - val_loss: 0.1931 - val_accuracy: 0.9448\n",
      "Epoch 27/50\n",
      "12/12 [==============================] - 0s 26ms/step - loss: 0.2664 - accuracy: 0.9213 - val_loss: 0.1897 - val_accuracy: 0.9459\n",
      "Epoch 28/50\n",
      "12/12 [==============================] - 0s 24ms/step - loss: 0.2672 - accuracy: 0.9195 - val_loss: 0.1877 - val_accuracy: 0.9462\n",
      "Epoch 29/50\n",
      "12/12 [==============================] - 0s 23ms/step - loss: 0.2625 - accuracy: 0.9215 - val_loss: 0.1857 - val_accuracy: 0.9467\n",
      "Epoch 30/50\n",
      "12/12 [==============================] - 0s 24ms/step - loss: 0.2581 - accuracy: 0.9230 - val_loss: 0.1831 - val_accuracy: 0.9478\n",
      "Epoch 31/50\n",
      "12/12 [==============================] - 0s 25ms/step - loss: 0.2527 - accuracy: 0.9254 - val_loss: 0.1817 - val_accuracy: 0.9483\n",
      "Epoch 32/50\n",
      "12/12 [==============================] - 0s 23ms/step - loss: 0.2501 - accuracy: 0.9258 - val_loss: 0.1798 - val_accuracy: 0.9484\n",
      "Epoch 33/50\n",
      "12/12 [==============================] - 0s 23ms/step - loss: 0.2496 - accuracy: 0.9261 - val_loss: 0.1773 - val_accuracy: 0.9492\n",
      "Epoch 34/50\n",
      "12/12 [==============================] - 0s 26ms/step - loss: 0.2469 - accuracy: 0.9266 - val_loss: 0.1762 - val_accuracy: 0.9497\n",
      "Epoch 35/50\n",
      "12/12 [==============================] - 0s 24ms/step - loss: 0.2425 - accuracy: 0.9273 - val_loss: 0.1746 - val_accuracy: 0.9503\n",
      "Epoch 36/50\n",
      "12/12 [==============================] - 0s 23ms/step - loss: 0.2394 - accuracy: 0.9287 - val_loss: 0.1725 - val_accuracy: 0.9504\n",
      "Epoch 37/50\n",
      "12/12 [==============================] - 0s 25ms/step - loss: 0.2360 - accuracy: 0.9296 - val_loss: 0.1707 - val_accuracy: 0.9515\n",
      "Epoch 38/50\n",
      "12/12 [==============================] - 0s 24ms/step - loss: 0.2343 - accuracy: 0.9305 - val_loss: 0.1700 - val_accuracy: 0.9513\n",
      "Epoch 39/50\n",
      "12/12 [==============================] - 0s 23ms/step - loss: 0.2304 - accuracy: 0.9306 - val_loss: 0.1685 - val_accuracy: 0.9522\n",
      "Epoch 40/50\n",
      "12/12 [==============================] - 0s 23ms/step - loss: 0.2315 - accuracy: 0.9301 - val_loss: 0.1674 - val_accuracy: 0.9516\n",
      "Epoch 41/50\n",
      "12/12 [==============================] - 0s 24ms/step - loss: 0.2260 - accuracy: 0.9311 - val_loss: 0.1654 - val_accuracy: 0.9523\n",
      "Epoch 42/50\n",
      "12/12 [==============================] - ETA: 0s - loss: 0.2272 - accuracy: 0.93 - 0s 23ms/step - loss: 0.2285 - accuracy: 0.9304 - val_loss: 0.1646 - val_accuracy: 0.9529\n",
      "Epoch 43/50\n",
      "12/12 [==============================] - 0s 23ms/step - loss: 0.2244 - accuracy: 0.9325 - val_loss: 0.1658 - val_accuracy: 0.9517\n",
      "Epoch 44/50\n",
      "12/12 [==============================] - 0s 23ms/step - loss: 0.2234 - accuracy: 0.9331 - val_loss: 0.1634 - val_accuracy: 0.9526\n",
      "Epoch 45/50\n",
      "12/12 [==============================] - 0s 25ms/step - loss: 0.2196 - accuracy: 0.9335 - val_loss: 0.1615 - val_accuracy: 0.9531\n",
      "Epoch 46/50\n",
      "12/12 [==============================] - 0s 22ms/step - loss: 0.2174 - accuracy: 0.9348 - val_loss: 0.1611 - val_accuracy: 0.9538\n",
      "Epoch 47/50\n",
      "12/12 [==============================] - 0s 23ms/step - loss: 0.2151 - accuracy: 0.9346 - val_loss: 0.1600 - val_accuracy: 0.9540\n",
      "Epoch 48/50\n",
      "12/12 [==============================] - 0s 24ms/step - loss: 0.2138 - accuracy: 0.9368 - val_loss: 0.1585 - val_accuracy: 0.9544\n",
      "Epoch 49/50\n",
      "12/12 [==============================] - 0s 25ms/step - loss: 0.2132 - accuracy: 0.9354 - val_loss: 0.1590 - val_accuracy: 0.9554\n",
      "Epoch 50/50\n",
      "12/12 [==============================] - 0s 23ms/step - loss: 0.2118 - accuracy: 0.9365 - val_loss: 0.1569 - val_accuracy: 0.9548\n",
      "\n",
      "Evaluating Against Test Set\n",
      "3/3 [==============================] - 0s 10ms/step - loss: 0.1609 - accuracy: 0.9551\n"
     ]
    },
    {
     "data": {
      "text/plain": [
       "[0.16085460782051086, 0.9550999999046326]"
      ]
     },
     "execution_count": 15,
     "metadata": {},
     "output_type": "execute_result"
    },
    {
     "data": {
      "image/png": "[encoded data removed]",
      "text/plain": [
       "<Figure size 432x288 with 1 Axes>"
      ]
     },
     "metadata": {
      "needs_background": "light"
     },
     "output_type": "display_data"
    }
   ],
   "source": [
    "#The hypermeters\n",
    "learning_rate = 0.003\n",
    "epochs = 50\n",
    "batch_size = 4000\n",
    "validation_split = 0.2\n",
    "\n",
    "#Creating the model\n",
    "\n",
    "my_model = create_model(learning_rate)\n",
    "\n",
    "#training The model\n",
    "\n",
    "epochs, hist = train_model(my_model, x_train_normalized, y_train, epochs, batch_size, validation_split)\n",
    "\n",
    "metrics = [\"accuracy\"]\n",
    "plot_curve(epochs, hist, metrics)\n",
    "\n",
    "#Evaluatng against Test Set\n",
    "print(\"\\nEvaluating Against Test Set\")\n",
    "my_model.evaluate(x=x_test_normalized, y=y_test, batch_size=batch_size)"
   ]
  },
  {
   "cell_type": "markdown",
   "id": "3ea7636f",
   "metadata": {},
   "source": [
    "# Task 2: Optimize the model\n",
    "Experiment with the following:\n",
    "\n",
    "number of hidden layers\n",
    "number of nodes in each layer\n",
    "dropout regularization rate\n",
    "What trends did you discover? Can you reach at least 98% accuracy against the test set?"
   ]
  },
  {
   "cell_type": "code",
   "execution_count": null,
   "id": "64846148",
   "metadata": {},
   "outputs": [],
   "source": [
    "# It would take much too long to experiment \n",
    "# fully with topography and dropout regularization \n",
    "# rate. In the real world, you would\n",
    "# also experiment with learning rate, batch size, \n",
    "# and number of epochs.  Since you only have a \n",
    "# few minutes, searching for trends can be helpful.\n",
    "# Here is what we discovered:\n",
    "#   * Adding more nodes (at least until 256 nodes) \n",
    "#     to the first hidden layer improved accuracy.\n",
    "#   * Adding a second hidden layer generally \n",
    "#     improved accuracy.\n",
    "#   * When the model contains a lot of nodes, \n",
    "#     the model overfits unless the dropout rate \n",
    "#     is at least 0.5. \n",
    "\n",
    "# We reached 98% test accuracy with the \n",
    "# following configuration:\n",
    "#   * One hidden layer of 256 nodes; no second hidden layer.\n",
    "#   * dropout regularization rate of 0.4\n",
    "\n",
    "# We reached 98.2% test accuracy with the \n",
    "# following configuration:\n",
    "#   * First hidden layer of 256 nodes; \n",
    "#     second hidden layer of 128 nodes.\n",
    "#   * dropout regularization rate of 0.2\n"
   ]
  }
 ],
 "metadata": {
  "kernelspec": {
   "display_name": "Python 3",
   "language": "python",
   "name": "python3"
  },
  "language_info": {
   "codemirror_mode": {
    "name": "ipython",
    "version": 3
   },
   "file_extension": ".py",
   "mimetype": "text/x-python",
   "name": "python",
   "nbconvert_exporter": "python",
   "pygments_lexer": "ipython3",
   "version": "3.8.8"
  }
 },
 "nbformat": 4,
 "nbformat_minor": 5
}
